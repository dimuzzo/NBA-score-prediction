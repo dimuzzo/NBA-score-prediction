{
 "cells": [
  {
   "cell_type": "code",
   "id": "initial_id",
   "metadata": {
    "collapsed": true,
    "ExecuteTime": {
     "end_time": "2025-05-07T12:56:50.182016Z",
     "start_time": "2025-05-07T12:56:49.598249Z"
    }
   },
   "source": [
    "import joblib\n",
    "import numpy as np\n",
    "import ipywidgets as widgets\n",
    "from IPython.display import display, clear_output, HTML\n",
    "\n",
    "# Load encoders, scaler, and model\n",
    "team_encoder = joblib.load(\"../model/team_encoder.pkl\")\n",
    "opponent_encoder = joblib.load(\"../model/opponent_encoder.pkl\")\n",
    "scaler = joblib.load(\"../model/scaler.pkl\")\n",
    "model = joblib.load(\"../model/nba_score_model.pkl\")\n",
    "\n",
    "# Load list of team names\n",
    "team_names = list(team_encoder.classes_)\n",
    "\n",
    "# Style title\n",
    "display(HTML(\"<h2 style='color: #1d3557; font-family: Arial, sans-serif; text-align: center;'>🏀 NBA Score Prediction</h2>\"))\n",
    "\n",
    "# Create dropdown widgets for team selection with enhanced style\n",
    "team_widget = widgets.Dropdown(\n",
    "    options=team_names,\n",
    "    description=\"Your Team:\",\n",
    "    style={'description_width': 'initial'},\n",
    "    layout=widgets.Layout(width='60%'),\n",
    "    tooltip=\"Select the team you are predicting for\"\n",
    ")\n",
    "\n",
    "opponent_widget = widgets.Dropdown(\n",
    "    options=team_names,\n",
    "    description=\"Opponent Team:\",\n",
    "    style={'description_width': 'initial'},\n",
    "    layout=widgets.Layout(width='60%'),\n",
    "    tooltip=\"Select the opponent team\"\n",
    ")\n",
    "\n",
    "# Create sliders for statistical input with more space and formatting\n",
    "fg_pct_widget = widgets.FloatSlider(\n",
    "    value=0.45, min=0.3, max=0.6, step=0.01,\n",
    "    description=\"FG%:\", readout_format=\".2f\",\n",
    "    style={'description_width': 'initial'},\n",
    "    layout=widgets.Layout(width='80%')\n",
    ")\n",
    "\n",
    "ft_pct_widget = widgets.FloatSlider(\n",
    "    value=0.75, min=0.5, max=1.0, step=0.01,\n",
    "    description=\"FT%:\", readout_format=\".2f\",\n",
    "    style={'description_width': 'initial'},\n",
    "    layout=widgets.Layout(width='80%')\n",
    ")\n",
    "\n",
    "fg3_pct_widget = widgets.FloatSlider(\n",
    "    value=0.35, min=0.2, max=0.5, step=0.01,\n",
    "    description=\"3PT%:\", readout_format=\".2f\",\n",
    "    style={'description_width': 'initial'},\n",
    "    layout=widgets.Layout(width='80%')\n",
    ")\n",
    "\n",
    "ast_widget = widgets.FloatSlider(\n",
    "    value=25, min=5, max=40, step=1,\n",
    "    description=\"AST:\",\n",
    "    style={'description_width': 'initial'},\n",
    "    layout=widgets.Layout(width='80%')\n",
    ")\n",
    "\n",
    "reb_widget = widgets.FloatSlider(\n",
    "    value=40, min=20, max=60, step=1,\n",
    "    description=\"REB:\",\n",
    "    style={'description_width': 'initial'},\n",
    "    layout=widgets.Layout(width='80%')\n",
    ")\n",
    "\n",
    "# Create prediction button with custom styling\n",
    "predict_button = widgets.Button(\n",
    "    description=\"Predict Score\",\n",
    "    button_style=\"success\",\n",
    "    layout=widgets.Layout(width='50%', height='40px'),\n",
    "    style={'font_weight': 'bold'}\n",
    ")\n",
    "\n",
    "output = widgets.Output()\n",
    "\n",
    "# Define prediction logic\n",
    "def predict_score(b):\n",
    "    with output:\n",
    "        clear_output()\n",
    "\n",
    "        # Encode teams (your team and opponent)\n",
    "        team_encoded = team_encoder.transform([team_widget.value])[0]\n",
    "        opponent_encoded = opponent_encoder.transform([opponent_widget.value])[0]\n",
    "\n",
    "        # Collect feature values\n",
    "        input_data = np.array([[\n",
    "            team_encoded,\n",
    "            opponent_encoded,\n",
    "            fg_pct_widget.value,\n",
    "            ft_pct_widget.value,\n",
    "            fg3_pct_widget.value,\n",
    "            ast_widget.value,\n",
    "            reb_widget.value\n",
    "        ]])\n",
    "\n",
    "        # Scale the input without feature names\n",
    "        input_scaled = scaler.transform(input_data)\n",
    "\n",
    "        # Make predictions for both teams\n",
    "        predicted_score_team = model.predict(input_scaled)[0]\n",
    "\n",
    "        # Swap the encoded values to predict the opponent's score\n",
    "        input_data_opponent = np.array([[\n",
    "            opponent_encoded,\n",
    "            team_encoded,  # Switch the team and opponent\n",
    "            fg_pct_widget.value,\n",
    "            ft_pct_widget.value,\n",
    "            fg3_pct_widget.value,\n",
    "            ast_widget.value,\n",
    "            reb_widget.value\n",
    "        ]])\n",
    "\n",
    "        input_scaled_opponent = scaler.transform(input_data_opponent)\n",
    "        predicted_score_opponent = model.predict(input_scaled_opponent)[0]\n",
    "\n",
    "        # Output the prediction\n",
    "        print(f\"🏀 Predicted Score for {team_widget.value} vs {opponent_widget.value}:\")\n",
    "        print(f\"👉 {int(predicted_score_team)} points for {team_widget.value}\")\n",
    "        print(f\"👉 {int(predicted_score_opponent)} points for {opponent_widget.value}\")\n",
    "\n",
    "# Bind prediction function to button click\n",
    "predict_button.on_click(predict_score)\n",
    "\n",
    "# Layout grouping with visual appeal\n",
    "team_box = widgets.HBox([team_widget, opponent_widget])\n",
    "stats_box = widgets.VBox([fg_pct_widget, ft_pct_widget, fg3_pct_widget,\n",
    "                          ast_widget, reb_widget])\n",
    "\n",
    "# Show all widgets with a styled layout\n",
    "display(team_box, stats_box, predict_button, output)"
   ],
   "outputs": [
    {
     "data": {
      "text/plain": [
       "<IPython.core.display.HTML object>"
      ],
      "text/html": [
       "<h2 style='color: #1d3557; font-family: Arial, sans-serif; text-align: center;'>🏀 NBA Score Prediction</h2>"
      ]
     },
     "metadata": {},
     "output_type": "display_data"
    },
    {
     "data": {
      "text/plain": [
       "HBox(children=(Dropdown(description='Your Team:', layout=Layout(width='60%'), options=('76ers', 'Bucks', 'Bull…"
      ],
      "application/vnd.jupyter.widget-view+json": {
       "version_major": 2,
       "version_minor": 0,
       "model_id": "4fbb4be7fdd3488399b848e5f7c64551"
      }
     },
     "metadata": {},
     "output_type": "display_data"
    },
    {
     "data": {
      "text/plain": [
       "VBox(children=(FloatSlider(value=0.45, description='FG%:', layout=Layout(width='80%'), max=0.6, min=0.3, step=…"
      ],
      "application/vnd.jupyter.widget-view+json": {
       "version_major": 2,
       "version_minor": 0,
       "model_id": "4efa87f8675b40de9262b6976b847779"
      }
     },
     "metadata": {},
     "output_type": "display_data"
    },
    {
     "data": {
      "text/plain": [
       "Button(button_style='success', description='Predict Score', layout=Layout(height='40px', width='50%'), style=B…"
      ],
      "application/vnd.jupyter.widget-view+json": {
       "version_major": 2,
       "version_minor": 0,
       "model_id": "129a058c53a44c798059de899e899e31"
      }
     },
     "metadata": {},
     "output_type": "display_data"
    },
    {
     "data": {
      "text/plain": [
       "Output()"
      ],
      "application/vnd.jupyter.widget-view+json": {
       "version_major": 2,
       "version_minor": 0,
       "model_id": "f8487dba86894ce4ae1021a66c4bf166"
      }
     },
     "metadata": {},
     "output_type": "display_data"
    }
   ],
   "execution_count": 3
  }
 ],
 "metadata": {
  "kernelspec": {
   "display_name": "Python 3",
   "language": "python",
   "name": "python3"
  },
  "language_info": {
   "codemirror_mode": {
    "name": "ipython",
    "version": 2
   },
   "file_extension": ".py",
   "mimetype": "text/x-python",
   "name": "python",
   "nbconvert_exporter": "python",
   "pygments_lexer": "ipython2",
   "version": "2.7.6"
  }
 },
 "nbformat": 4,
 "nbformat_minor": 5
}
