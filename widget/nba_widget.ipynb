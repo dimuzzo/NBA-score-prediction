{
 "cells": [
  {
   "cell_type": "code",
   "id": "initial_id",
   "metadata": {
    "collapsed": true,
    "ExecuteTime": {
     "end_time": "2025-05-07T21:12:26.992951Z",
     "start_time": "2025-05-07T21:12:26.493714Z"
    }
   },
   "source": [
    "import joblib\n",
    "import numpy as np\n",
    "import ipywidgets as widgets\n",
    "from IPython.display import display, clear_output, HTML\n",
    "\n",
    "# Load model and encoders\n",
    "team_encoder = joblib.load(\"../model/team_encoder.pkl\")\n",
    "opponent_encoder = joblib.load(\"../model/opponent_encoder.pkl\")\n",
    "scaler = joblib.load(\"../model/scaler.pkl\")\n",
    "model = joblib.load(\"../model/nba_score_model.pkl\")\n",
    "\n",
    "team_names = list(team_encoder.classes_)\n",
    "\n",
    "# Title with new background color\n",
    "display(HTML(\"\"\"\n",
    "    <div style='background-color: #0066cc; padding: 20px; border-radius: 10px;'>\n",
    "        <h2 style='color: #ffffff; font-family: \"Arial\", sans-serif; font-size: 32px; text-align: center;'>\n",
    "            🏀 NBA Score Prediction\n",
    "        </h2>\n",
    "    </div>\n",
    "\"\"\"))\n",
    "\n",
    "# Team selectors with updated color and font\n",
    "team_widget = widgets.Dropdown(\n",
    "    options=team_names,\n",
    "    value=\"Lakers\",  # Default value\n",
    "    description=\"Your Team:\",\n",
    "    style={'description_width': 'initial', 'font_size': '16px', 'font_family': 'Arial, sans-serif'},\n",
    "    layout=widgets.Layout(width='90%', margin='10px 0px', padding='5px')\n",
    ")\n",
    "\n",
    "opponent_widget = widgets.Dropdown(\n",
    "    options=team_names,\n",
    "    value=\"Heat\",  # Default value\n",
    "    description=\"Opponent Team:\",\n",
    "    style={'description_width': 'initial', 'font_size': '16px', 'font_family': 'Arial, sans-serif'},\n",
    "    layout=widgets.Layout(width='90%', margin='10px 0px', padding='5px')\n",
    ")\n",
    "\n",
    "# Function to create styled text inputs with updated font and color\n",
    "def create_input(description, placeholder):\n",
    "    return widgets.Text(\n",
    "        description=description,\n",
    "        placeholder=placeholder,\n",
    "        style={'description_width': '80px', 'font_size': '16px', 'font_family': 'Arial, sans-serif'},\n",
    "        layout=widgets.Layout(width='95%', margin='10px 0px', padding='5px')\n",
    "    )\n",
    "\n",
    "# Create input fields with updated style\n",
    "def create_stat_inputs(fg=\"45\", ft=\"75\", fg3=\"35\", ast=\"25\", reb=\"40\"):\n",
    "    return {\n",
    "        \"fg_pct\": create_input(\"FG%:\", fg),\n",
    "        \"ft_pct\": create_input(\"FT%:\", ft),\n",
    "        \"fg3_pct\": create_input(\"3PT%:\", fg3),\n",
    "        \"ast\": create_input(\"AST:\", ast),\n",
    "        \"reb\": create_input(\"REB:\", reb)\n",
    "    }\n",
    "\n",
    "# Differentiating initial stats for team and opponent\n",
    "team_stats = create_stat_inputs(fg=\"45\", ft=\"75\", fg3=\"35\", ast=\"25\", reb=\"40\")\n",
    "opp_stats = create_stat_inputs(fg=\"47\", ft=\"72\", fg3=\"38\", ast=\"28\", reb=\"42\")\n",
    "\n",
    "# Function to create sliders with updated design\n",
    "def create_slider(description, value, min_val, max_val):\n",
    "    return widgets.FloatSlider(\n",
    "        value=value, min=min_val, max=max_val, step=0.01,\n",
    "        description=description, readout_format='.2f',\n",
    "        style={'description_width': '80px', 'font_size': '16px', 'font_family': 'Arial, sans-serif'},\n",
    "        layout=widgets.Layout(width='95%', height='60px', margin='10px 0px', padding='5px'),\n",
    "        readout_style={'color': 'black', 'font-size': '16px'}\n",
    "    )\n",
    "\n",
    "# Function to create integer sliders\n",
    "def create_int_slider(description, value, min_val, max_val):\n",
    "    return widgets.IntSlider(\n",
    "        value=value, min=min_val, max=max_val, step=1,\n",
    "        description=description, readout_format='d',\n",
    "        style={'description_width': '80px', 'font_size': '16px', 'font_family': 'Arial, sans-serif'},\n",
    "        layout=widgets.Layout(width='95%', height='60px', margin='10px 0px', padding='5px'),\n",
    "        readout_style={'color': 'black', 'font-size': '16px'}\n",
    "    )\n",
    "\n",
    "# Create sliders for stats with improved visual design\n",
    "fg_pct_slider_team = create_slider('.FG%', 0.45, 0.3, 0.6)\n",
    "ft_pct_slider_team = create_slider('.FT%', 0.75, 0.5, 1.0)\n",
    "fg3_pct_slider_team = create_slider('.3PT%', 0.35, 0.2, 0.5)\n",
    "ast_slider_team = create_int_slider('AST', 25, 5, 40)\n",
    "reb_slider_team = create_int_slider('REB', 40, 20, 60)\n",
    "\n",
    "# Create sliders for opponent stats with updated design\n",
    "fg_pct_slider_opp = create_slider('.FG%', 0.47, 0.3, 0.6)\n",
    "ft_pct_slider_opp = create_slider('.FT%', 0.72, 0.5, 1.0)\n",
    "fg3_pct_slider_opp = create_slider('.3PT%', 0.38, 0.2, 0.5)\n",
    "ast_slider_opp = create_int_slider('AST', 28, 5, 40)\n",
    "reb_slider_opp = create_int_slider('REB', 42, 20, 60)\n",
    "\n",
    "# Prediction button with updated design\n",
    "predict_button = widgets.Button(\n",
    "    description=\"🎯 Predict Score\",\n",
    "    button_style=\"success\",\n",
    "    layout=widgets.Layout(width='60%', height='40px'),\n",
    "    style={'font_weight': 'bold', 'font_size': '18px'}\n",
    ")\n",
    "\n",
    "output = widgets.Output()\n",
    "\n",
    "# Prediction logic\n",
    "def predict_score(b):\n",
    "    with output:\n",
    "        clear_output()\n",
    "        try:\n",
    "            # Encode teams\n",
    "            team_encoded = team_encoder.transform([team_widget.value])[0]\n",
    "            opponent_encoded = opponent_encoder.transform([opponent_widget.value])[0]\n",
    "\n",
    "            # Prepare stats values for prediction\n",
    "            team_values = [\n",
    "                team_encoded, opponent_encoded,\n",
    "                fg_pct_slider_team.value, ft_pct_slider_team.value, fg3_pct_slider_team.value,\n",
    "                ast_slider_team.value, reb_slider_team.value\n",
    "            ]\n",
    "            opponent_values = [\n",
    "                opponent_encoded, team_encoded,\n",
    "                fg_pct_slider_opp.value, ft_pct_slider_opp.value, fg3_pct_slider_opp.value,\n",
    "                ast_slider_opp.value, reb_slider_opp.value\n",
    "            ]\n",
    "\n",
    "            # Prepare for model\n",
    "            team_scaled = scaler.transform([team_values])\n",
    "            opponent_scaled = scaler.transform([opponent_values])\n",
    "\n",
    "            # Make prediction\n",
    "            team_score = model.predict(team_scaled)[0]\n",
    "            opponent_score = model.predict(opponent_scaled)[0]\n",
    "\n",
    "            # Output result\n",
    "            display(HTML(f\"\"\"\n",
    "                <div style='background-color: #0066cc; padding: 20px; border-radius: 10px;\n",
    "                             color: #ffffff; font-family: Arial; font-size: 20px;'>\n",
    "                    <b>Predicted Score:</b><br><br>\n",
    "                    🔵 <b>{team_widget.value}</b>: {int(team_score)} points<br>\n",
    "                    🔴 <b>{opponent_widget.value}</b>: {int(opponent_score)} points\n",
    "                </div>\n",
    "            \"\"\"))\n",
    "\n",
    "        except Exception as e:\n",
    "            display(HTML(f\"<span style='color: red;'>⚠️ Error: {str(e)}</span>\"))\n",
    "\n",
    "# Bind event to the button\n",
    "predict_button.on_click(predict_score)\n",
    "\n",
    "# Layout with updated design\n",
    "dropdowns = widgets.HBox([team_widget, opponent_widget])\n",
    "\n",
    "team_box = widgets.VBox([\n",
    "    widgets.HTML(\"<h4 style='color:#ffffff; font-family: Arial, sans-serif;'>📊 Your Team Stats</h4>\"),\n",
    "    fg_pct_slider_team, ft_pct_slider_team, fg3_pct_slider_team, ast_slider_team, reb_slider_team\n",
    "])\n",
    "\n",
    "# Add a horizontal line between team stats and opponent stats\n",
    "divider = widgets.HTML(\"<hr style='border: 1px solid #ffffff; width: 90%; margin: 10px 0;'>\")\n",
    "\n",
    "opponent_box = widgets.VBox([\n",
    "    widgets.HTML(\"<h4 style='color:#ffffff; font-family: Arial, sans-serif;'>📊 Opponent Stats</h4>\"),\n",
    "    fg_pct_slider_opp, ft_pct_slider_opp, fg3_pct_slider_opp, ast_slider_opp, reb_slider_opp\n",
    "])\n",
    "\n",
    "# Add a horizontal line between the teams' names and their stats\n",
    "team_opponent_divider = widgets.HTML(\"<hr style='border: 1px solid #ffffff; width: 90%; margin: 10px 0;'>\")\n",
    "\n",
    "inputs_box = widgets.VBox([team_box, team_opponent_divider, opponent_box])\n",
    "\n",
    "# Display everything inside a light blue panel\n",
    "display(HTML(\"<div style='background-color: #0066cc; padding: 20px; border-radius: 10px;'>\"))\n",
    "display(dropdowns)\n",
    "display(inputs_box)\n",
    "display(predict_button)\n",
    "display(output)\n",
    "display(HTML(\"</div>\"))"
   ],
   "outputs": [
    {
     "data": {
      "text/plain": [
       "<IPython.core.display.HTML object>"
      ],
      "text/html": [
       "\n",
       "    <div style='background-color: #0066cc; padding: 20px; border-radius: 10px;'>\n",
       "        <h2 style='color: #ffffff; font-family: \"Arial\", sans-serif; font-size: 32px; text-align: center;'>\n",
       "            🏀 NBA Score Prediction\n",
       "        </h2>\n",
       "    </div>\n"
      ]
     },
     "metadata": {},
     "output_type": "display_data"
    },
    {
     "data": {
      "text/plain": [
       "<IPython.core.display.HTML object>"
      ],
      "text/html": [
       "<div style='background-color: #0066cc; padding: 20px; border-radius: 10px;'>"
      ]
     },
     "metadata": {},
     "output_type": "display_data"
    },
    {
     "data": {
      "text/plain": [
       "HBox(children=(Dropdown(description='Your Team:', index=13, layout=Layout(margin='10px 0px', padding='5px', wi…"
      ],
      "application/vnd.jupyter.widget-view+json": {
       "version_major": 2,
       "version_minor": 0,
       "model_id": "4a88ebf157d547d59c4906c23e2e9614"
      }
     },
     "metadata": {},
     "output_type": "display_data"
    },
    {
     "data": {
      "text/plain": [
       "VBox(children=(VBox(children=(HTML(value=\"<h4 style='color:#ffffff; font-family: Arial, sans-serif;'>📊 Your Te…"
      ],
      "application/vnd.jupyter.widget-view+json": {
       "version_major": 2,
       "version_minor": 0,
       "model_id": "401da0742a2044f4a4ccf63bce0980b0"
      }
     },
     "metadata": {},
     "output_type": "display_data"
    },
    {
     "data": {
      "text/plain": [
       "Button(button_style='success', description='🎯 Predict Score', layout=Layout(height='40px', width='60%'), style…"
      ],
      "application/vnd.jupyter.widget-view+json": {
       "version_major": 2,
       "version_minor": 0,
       "model_id": "c629141bcb8646ecbf7affc406d0179c"
      }
     },
     "metadata": {},
     "output_type": "display_data"
    },
    {
     "data": {
      "text/plain": [
       "Output()"
      ],
      "application/vnd.jupyter.widget-view+json": {
       "version_major": 2,
       "version_minor": 0,
       "model_id": "b60fa64441094adbae68ac81b28c274b"
      }
     },
     "metadata": {},
     "output_type": "display_data"
    },
    {
     "data": {
      "text/plain": [
       "<IPython.core.display.HTML object>"
      ],
      "text/html": [
       "</div>"
      ]
     },
     "metadata": {},
     "output_type": "display_data"
    }
   ],
   "execution_count": 39
  }
 ],
 "metadata": {
  "kernelspec": {
   "display_name": "Python 3",
   "language": "python",
   "name": "python3"
  },
  "language_info": {
   "codemirror_mode": {
    "name": "ipython",
    "version": 2
   },
   "file_extension": ".py",
   "mimetype": "text/x-python",
   "name": "python",
   "nbconvert_exporter": "python",
   "pygments_lexer": "ipython2",
   "version": "2.7.6"
  }
 },
 "nbformat": 4,
 "nbformat_minor": 5
}
