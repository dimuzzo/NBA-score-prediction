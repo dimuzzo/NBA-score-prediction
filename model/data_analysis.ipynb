{
 "cells": [
  {
   "cell_type": "code",
   "id": "initial_id",
   "metadata": {
    "collapsed": true,
    "ExecuteTime": {
     "end_time": "2025-05-07T11:37:02.418698Z",
     "start_time": "2025-05-07T11:36:59.433235Z"
    }
   },
   "source": "import pandas as pd",
   "outputs": [],
   "execution_count": 1
  },
  {
   "metadata": {
    "ExecuteTime": {
     "end_time": "2025-05-07T12:26:25.455081Z",
     "start_time": "2025-05-07T12:26:23.806275Z"
    }
   },
   "cell_type": "code",
   "source": [
    "# Load datasets\n",
    "games = pd.read_csv(\"../data/games.csv\")\n",
    "games_details = pd.read_csv(\"../data/games_details.csv\", low_memory=False)\n",
    "players = pd.read_csv(\"../data/players.csv\")\n",
    "ranking = pd.read_csv(\"../data/ranking.csv\")\n",
    "teams = pd.read_csv(\"../data/teams.csv\")"
   ],
   "id": "95aceb1dbae9fc98",
   "outputs": [],
   "execution_count": 8
  },
  {
   "metadata": {
    "ExecuteTime": {
     "end_time": "2025-05-07T11:39:57.206909Z",
     "start_time": "2025-05-07T11:39:57.200637Z"
    }
   },
   "cell_type": "code",
   "source": [
    "print(games.dtypes)\n",
    "print('-----------------------------------')\n",
    "print(games_details.dtypes)\n",
    "print('-----------------------------------')\n",
    "print(players.dtypes)\n",
    "print('-----------------------------------')\n",
    "print(ranking.dtypes)\n",
    "print('-----------------------------------')\n",
    "print(teams.dtypes)"
   ],
   "id": "2e542fc40d96e751",
   "outputs": [
    {
     "name": "stdout",
     "output_type": "stream",
     "text": [
      "GAME_DATE_EST        object\n",
      "GAME_ID               int64\n",
      "GAME_STATUS_TEXT     object\n",
      "HOME_TEAM_ID          int64\n",
      "VISITOR_TEAM_ID       int64\n",
      "SEASON                int64\n",
      "TEAM_ID_home          int64\n",
      "PTS_home            float64\n",
      "FG_PCT_home         float64\n",
      "FT_PCT_home         float64\n",
      "FG3_PCT_home        float64\n",
      "AST_home            float64\n",
      "REB_home            float64\n",
      "TEAM_ID_away          int64\n",
      "PTS_away            float64\n",
      "FG_PCT_away         float64\n",
      "FT_PCT_away         float64\n",
      "FG3_PCT_away        float64\n",
      "AST_away            float64\n",
      "REB_away            float64\n",
      "HOME_TEAM_WINS        int64\n",
      "dtype: object\n",
      "-----------------------------------\n",
      "GAME_ID                int64\n",
      "TEAM_ID                int64\n",
      "TEAM_ABBREVIATION     object\n",
      "TEAM_CITY             object\n",
      "PLAYER_ID              int64\n",
      "PLAYER_NAME           object\n",
      "NICKNAME              object\n",
      "START_POSITION        object\n",
      "COMMENT               object\n",
      "MIN                   object\n",
      "FGM                  float64\n",
      "FGA                  float64\n",
      "FG_PCT               float64\n",
      "FG3M                 float64\n",
      "FG3A                 float64\n",
      "FG3_PCT              float64\n",
      "FTM                  float64\n",
      "FTA                  float64\n",
      "FT_PCT               float64\n",
      "OREB                 float64\n",
      "DREB                 float64\n",
      "REB                  float64\n",
      "AST                  float64\n",
      "STL                  float64\n",
      "BLK                  float64\n",
      "TO                   float64\n",
      "PF                   float64\n",
      "PTS                  float64\n",
      "PLUS_MINUS           float64\n",
      "dtype: object\n",
      "-----------------------------------\n",
      "PLAYER_NAME    object\n",
      "TEAM_ID         int64\n",
      "PLAYER_ID       int64\n",
      "SEASON          int64\n",
      "dtype: object\n",
      "-----------------------------------\n",
      "TEAM_ID            int64\n",
      "LEAGUE_ID          int64\n",
      "SEASON_ID          int64\n",
      "STANDINGSDATE     object\n",
      "CONFERENCE        object\n",
      "TEAM              object\n",
      "G                  int64\n",
      "W                  int64\n",
      "L                  int64\n",
      "W_PCT            float64\n",
      "HOME_RECORD       object\n",
      "ROAD_RECORD       object\n",
      "RETURNTOPLAY     float64\n",
      "dtype: object\n",
      "-----------------------------------\n",
      "LEAGUE_ID               int64\n",
      "TEAM_ID                 int64\n",
      "MIN_YEAR                int64\n",
      "MAX_YEAR                int64\n",
      "ABBREVIATION           object\n",
      "NICKNAME               object\n",
      "YEARFOUNDED             int64\n",
      "CITY                   object\n",
      "ARENA                  object\n",
      "ARENACAPACITY         float64\n",
      "OWNER                  object\n",
      "GENERALMANAGER         object\n",
      "HEADCOACH              object\n",
      "DLEAGUEAFFILIATION     object\n",
      "dtype: object\n"
     ]
    }
   ],
   "execution_count": 7
  }
 ],
 "metadata": {
  "kernelspec": {
   "display_name": "Python 3",
   "language": "python",
   "name": "python3"
  },
  "language_info": {
   "codemirror_mode": {
    "name": "ipython",
    "version": 2
   },
   "file_extension": ".py",
   "mimetype": "text/x-python",
   "name": "python",
   "nbconvert_exporter": "python",
   "pygments_lexer": "ipython2",
   "version": "2.7.6"
  }
 },
 "nbformat": 4,
 "nbformat_minor": 5
}
