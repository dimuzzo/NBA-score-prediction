{
 "cells": [
  {
   "metadata": {
    "ExecuteTime": {
     "end_time": "2025-06-13T16:22:05.605581Z",
     "start_time": "2025-06-13T16:21:59.853602Z"
    }
   },
   "cell_type": "code",
   "source": [
    "import ipywidgets as widgets\n",
    "from ipywidgets import interact, Layout\n",
    "import pandas as pd\n",
    "import numpy as np\n",
    "import json\n",
    "from tensorflow.keras.models import load_model\n",
    "import matplotlib.pyplot as plt\n",
    "import seaborn as sns\n",
    "\n",
    "# Set plot style\n",
    "sns.set_style(\"whitegrid\")\n",
    "plt.rc('font', size=12)"
   ],
   "id": "32385bdbaaed674a",
   "outputs": [],
   "execution_count": 2
  },
  {
   "metadata": {
    "ExecuteTime": {
     "end_time": "2025-06-13T16:22:05.757631Z",
     "start_time": "2025-06-13T16:22:05.624205Z"
    }
   },
   "cell_type": "code",
   "source": [
    "# --- Load Model and Normalization Stats ---\n",
    "# This cell loads the necessary files. Run it once.\n",
    "\n",
    "MODEL_PATH = '../nba_prediction_model.keras'\n",
    "STATS_PATH = '../normalization_stats.json'\n",
    "CONFIG_FEATURES = [\n",
    "    'PTS_avg_home', 'FG_PCT_avg_home', 'FT_PCT_avg_home', 'FG3_PCT_avg_home', 'AST_avg_home', 'REB_avg_home',\n",
    "    'PTS_avg_away', 'FG_PCT_avg_away', 'FT_PCT_avg_away', 'FG3_PCT_avg_away', 'AST_avg_away', 'REB_avg_away'\n",
    "]\n",
    "\n",
    "try:\n",
    "    model = load_model(MODEL_PATH)\n",
    "    with open(STATS_PATH, 'r') as f:\n",
    "        norm_stats = json.load(f)\n",
    "\n",
    "    mean_stats = pd.Series(norm_stats['mean'])\n",
    "    std_stats = pd.Series(norm_stats['std'])\n",
    "\n",
    "    print(\"✅ Model and normalization stats loaded successfully!\")\n",
    "except Exception as e:\n",
    "    print(f\"❌ Error loading files: {e}\")\n",
    "    print(\"Please make sure you have trained the model by running 'python -m src.train' in the root directory.\")"
   ],
   "id": "e3f06552065b998a",
   "outputs": [
    {
     "name": "stdout",
     "output_type": "stream",
     "text": [
      "✅ Model and normalization stats loaded successfully!\n"
     ]
    }
   ],
   "execution_count": 3
  },
  {
   "metadata": {
    "ExecuteTime": {
     "end_time": "2025-06-13T16:22:05.773909Z",
     "start_time": "2025-06-13T16:22:05.770098Z"
    }
   },
   "cell_type": "code",
   "source": [
    "# --- Prediction Function ---\n",
    "# This function takes the stats, normalizes them, and returns the prediction\n",
    "\n",
    "def predict_winner(input_data):\n",
    "    \"\"\"Predicts winner based on input data dictionary.\"\"\"\n",
    "    input_df = pd.DataFrame([input_data])\n",
    "\n",
    "    # Ensure columns are in the correct order\n",
    "    input_df = input_df[CONFIG_FEATURES]\n",
    "\n",
    "    # Normalize the input data using saved stats from training\n",
    "    normalized_df = (input_df - mean_stats) / std_stats\n",
    "\n",
    "    # Make prediction\n",
    "    prediction_prob = model.predict(normalized_df, verbose=0)[0][0]\n",
    "    return prediction_prob"
   ],
   "id": "2406142a76b0b84d",
   "outputs": [],
   "execution_count": 4
  },
  {
   "metadata": {
    "ExecuteTime": {
     "end_time": "2025-06-13T16:22:05.930047Z",
     "start_time": "2025-06-13T16:22:05.788202Z"
    }
   },
   "cell_type": "code",
   "source": [
    "# --- Create Interactive Sliders ---\n",
    "\n",
    "style = {'description_width': 'initial'}\n",
    "layout = Layout(width='80%')\n",
    "\n",
    "# Sliders for Home Team\n",
    "pts_home = widgets.FloatSlider(value=115, min=80, max=140, step=0.1, description='Home Avg Points:', style=style, layout=layout)\n",
    "fg_pct_home = widgets.FloatSlider(value=0.48, min=0.35, max=0.60, step=0.001, description='Home Avg FG%:', format='.3f', style=style, layout=layout)\n",
    "ast_home = widgets.FloatSlider(value=25, min=15, max=40, step=0.1, description='Home Avg Assists:', style=style, layout=layout)\n",
    "reb_home = widgets.FloatSlider(value=44, min=30, max=60, step=0.1, description='Home Avg Rebounds:', style=style, layout=layout)\n",
    "\n",
    "# Sliders for Away Team\n",
    "pts_away = widgets.FloatSlider(value=110, min=80, max=140, step=0.1, description='Away Avg Points:', style=style, layout=layout)\n",
    "fg_pct_away = widgets.FloatSlider(value=0.46, min=0.35, max=0.60, step=0.001, description='Away Avg FG%:', format='.3f', style=style, layout=layout)\n",
    "ast_away = widgets.FloatSlider(value=23, min=15, max=40, step=0.1, description='Away Avg Assists:', style=style, layout=layout)\n",
    "reb_away = widgets.FloatSlider(value=42, min=30, max=60, step=0.1, description='Away Avg Rebounds:', style=style, layout=layout)\n",
    "\n",
    "# Output widget to display the results\n",
    "output_widget = widgets.Output()\n",
    "\n",
    "def update_prediction(**kwargs):\n",
    "    # This function will be called whenever a slider value changes\n",
    "    with output_widget:\n",
    "        output_widget.clear_output(wait=True)\n",
    "\n",
    "        # Create the data dictionary from current slider values\n",
    "        # Note: FT% and FG3% are hardcoded here for simplicity, but could also be sliders\n",
    "        game_data = {\n",
    "            'PTS_avg_home': kwargs['pts_home'], 'FG_PCT_avg_home': kwargs['fg_pct_home'],\n",
    "            'AST_avg_home': kwargs['ast_home'], 'REB_avg_home': kwargs['reb_home'],\n",
    "            'FT_PCT_avg_home': 0.78, 'FG3_PCT_avg_home': 0.36,\n",
    "            'PTS_avg_away': kwargs['pts_away'], 'FG_PCT_avg_away': kwargs['fg_pct_away'],\n",
    "            'AST_avg_away': kwargs['ast_away'], 'REB_avg_away': kwargs['reb_away'],\n",
    "            'FT_PCT_avg_away': 0.78, 'FG3_PCT_avg_away': 0.35\n",
    "        }\n",
    "\n",
    "        # Get prediction\n",
    "        home_win_prob = predict_winner(game_data)\n",
    "        away_win_prob = 1 - home_win_prob\n",
    "\n",
    "        # --- Display Results ---\n",
    "        fig, ax = plt.subplots(figsize=(8, 4))\n",
    "\n",
    "        teams = ['Away Team', 'Home Team']\n",
    "        probs = [away_win_prob * 100, home_win_prob * 100]\n",
    "        colors = ['#E74C3C', '#3498DB']\n",
    "\n",
    "        bars = ax.barh(teams, probs, color=colors)\n",
    "        ax.bar_label(bars, fmt='%.2f%%', padding=5, fontsize=12, weight='bold')\n",
    "\n",
    "        ax.set_title('Predicted Win Probability', fontsize=16, weight='bold')\n",
    "        ax.set_xlabel('Probability (%)')\n",
    "        ax.set_xlim(0, 100)\n",
    "        ax.tick_params(axis='x', which='both', bottom=False, top=False, labelbottom=False) # Hide x-axis labels\n",
    "\n",
    "        # Remove spines\n",
    "        for spine in ['top', 'right', 'bottom', 'left']:\n",
    "            ax.spines[spine].set_visible(False)\n",
    "\n",
    "        plt.show()\n",
    "\n",
    "# Link sliders to the update function\n",
    "interactive_ui = widgets.interactive(\n",
    "    update_prediction,\n",
    "    pts_home=pts_home, fg_pct_home=fg_pct_home, ast_home=ast_home, reb_home=reb_home,\n",
    "    pts_away=pts_away, fg_pct_away=fg_pct_away, ast_away=ast_away, reb_away=reb_away\n",
    ")\n",
    "\n",
    "# Display the UI\n",
    "home_box = widgets.VBox([widgets.HTML(\"<h3><b>Home Team</b></h3>\"), pts_home, fg_pct_home, ast_home, reb_home])\n",
    "away_box = widgets.VBox([widgets.HTML(\"<h3><b>Away Team</b></h3>\"), pts_away, fg_pct_away, ast_away, reb_away])\n",
    "ui_container = widgets.HBox([home_box, away_box])\n",
    "\n",
    "display(ui_container, output_widget)"
   ],
   "id": "cdee182d114e9c9c",
   "outputs": [
    {
     "data": {
      "text/plain": [
       "HBox(children=(VBox(children=(HTML(value='<h3><b>Home Team</b></h3>'), FloatSlider(value=115.0, description='H…"
      ],
      "application/vnd.jupyter.widget-view+json": {
       "version_major": 2,
       "version_minor": 0,
       "model_id": "fedbf1a409a6464189aad1377c5aca1f"
      }
     },
     "metadata": {},
     "output_type": "display_data"
    },
    {
     "data": {
      "text/plain": [
       "Output()"
      ],
      "application/vnd.jupyter.widget-view+json": {
       "version_major": 2,
       "version_minor": 0,
       "model_id": "dfdca3b717964ba596f3cfddcfd1bb82"
      }
     },
     "metadata": {},
     "output_type": "display_data"
    }
   ],
   "execution_count": 5
  }
 ],
 "metadata": {
  "kernelspec": {
   "display_name": "Python 3",
   "language": "python",
   "name": "python3"
  },
  "language_info": {
   "codemirror_mode": {
    "name": "ipython",
    "version": 2
   },
   "file_extension": ".py",
   "mimetype": "text/x-python",
   "name": "python",
   "nbconvert_exporter": "python",
   "pygments_lexer": "ipython2",
   "version": "2.7.6"
  }
 },
 "nbformat": 4,
 "nbformat_minor": 5
}
